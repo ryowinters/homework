{
 "cells": [
  {
   "cell_type": "code",
   "execution_count": null,
   "id": "c2071bf2",
   "metadata": {},
   "outputs": [],
   "source": []
  },
  {
   "cell_type": "code",
   "execution_count": 5,
   "id": "20b1081b",
   "metadata": {},
   "outputs": [
    {
     "name": "stdout",
     "output_type": "stream",
     "text": [
      "VideoObject(id='78981732754843828-9202953005897305105', model='cogvideox', video_result=None, task_status='PROCESSING', request_id='-9202953005897305106')\n"
     ]
    }
   ],
   "source": [
    "from zhipuai import ZhipuAI\n",
    "client = ZhipuAI(api_key=\"fdc3a81d347ec3e61d5e2b08cb54a835.7UUSjcJgtWwWWHqc\")\n",
    "\n",
    "response = client.videos.generations(\n",
    "    model=\"cogvideox\",\n",
    "    prompt=\"一个人在买汉堡包\"\n",
    "\n",
    ")\n",
    "print(response)"
   ]
  },
  {
   "cell_type": "code",
   "execution_count": null,
   "id": "3a6e498c",
   "metadata": {},
   "outputs": [],
   "source": []
  },
  {
   "cell_type": "code",
   "execution_count": 7,
   "id": "7484bba1",
   "metadata": {},
   "outputs": [
    {
     "name": "stdout",
     "output_type": "stream",
     "text": [
      "VideoObject(id=None, model='cogvideox', video_result=[VideoResult(url='https://aigc-files.bigmodel.cn/api/cogvideo/bcc5b99e-ad22-11ef-bd78-9ee7942420ea_0.mp4', cover_image_url='https://aigc-files.bigmodel.cn/api/cogvideo/bcc5b99e-ad22-11ef-bd78-9ee7942420ea_cover_0.jpeg')], task_status='SUCCESS', request_id='-9202953005897305106')\n"
     ]
    }
   ],
   "source": [
    "from zhipuai import ZhipuAI\n",
    "client = ZhipuAI(api_key=\"fdc3a81d347ec3e61d5e2b08cb54a835.7UUSjcJgtWwWWHqc\")\n",
    "\n",
    "response = client.videos.retrieve_videos_result(\n",
    "    id=\"78981732754843828-9202953005897305105\"\n",
    ")\n",
    "print(response)\n"
   ]
  },
  {
   "cell_type": "code",
   "execution_count": null,
   "id": "2c8e579f",
   "metadata": {},
   "outputs": [],
   "source": []
  },
  {
   "cell_type": "code",
   "execution_count": null,
   "id": "1150a6f1",
   "metadata": {},
   "outputs": [],
   "source": []
  }
 ],
 "metadata": {
  "kernelspec": {
   "display_name": "Python 3 (ipykernel)",
   "language": "python",
   "name": "python3"
  },
  "language_info": {
   "codemirror_mode": {
    "name": "ipython",
    "version": 3
   },
   "file_extension": ".py",
   "mimetype": "text/x-python",
   "name": "python",
   "nbconvert_exporter": "python",
   "pygments_lexer": "ipython3",
   "version": "3.12.7"
  }
 },
 "nbformat": 4,
 "nbformat_minor": 5
}
