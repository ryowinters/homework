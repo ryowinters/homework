{
 "cells": [
  {
   "cell_type": "code",
   "execution_count": 1,
   "id": "e023252d-aad8-4619-b1b9-0fd130822dd4",
   "metadata": {
    "tags": []
   },
   "outputs": [],
   "source": [
    "import torch\n",
    "import numpy as np\n",
    "import matplotlib.pyplot as plt"
   ]
  },
  {
   "cell_type": "code",
   "execution_count": 1,
   "id": "49c80c65-65d0-4e7f-b488-16ecf48cf770",
   "metadata": {
    "tags": []
   },
   "outputs": [
    {
     "data": {
      "image/png": "[encoded data removed]",
      "text/plain": [
       "<Figure size 432x288 with 1 Axes>"
      ]
     },
     "metadata": {
      "needs_background": "light"
     },
     "output_type": "display_data"
    }
   ],
   "source": [
    "import numpy as np\n",
    "import torch\n",
    "import matplotlib.pyplot as plt\n",
    "\n",
    "plt.rcParams['font.sans-serif'] = ['SimHei']\n",
    "plt.rcParams['axes.unicode_minus'] = False\n",
    "x_plot = np.linspace(-1000, 1000, 4000)\n",
    "y_plot = torch.tensor(x_plot ** 2 * (x_plot - 1) ** 2)\n",
    "\n",
    "# 绘制曲线\n",
    "plt.plot(x_plot, y_plot)\n",
    "\n",
    "plt.xlabel('x值')\n",
    "plt.ylabel('f(x)值')\n",
    "plt.title('函数f(x) = x^2*(x - 1)^2的曲线')\n",
    "plt.show()"
   ]
  },
  {
   "cell_type": "code",
   "execution_count": 5,
   "id": "d9d1f572-290d-49f1-8dba-6e3647104838",
   "metadata": {},
   "outputs": [
    {
     "name": "stdout",
     "output_type": "stream",
     "text": [
      "x0:  tensor(1.5147, requires_grad=True) y0:  tensor(0.6079, grad_fn=<MulBackward0>) x0的梯度:  tensor(3.1645)\n"
     ]
    }
   ],
   "source": [
    "import torch\n",
    "import numpy as np\n",
    "import matplotlib.pyplot as plt\n",
    "\n",
    "# 初始值x0，设置为需要计算梯度\n",
    "x0 = torch.tensor(5.0, requires_grad=True)\n",
    "# 根据函数计算y0的初始值\n",
    "y0 = x0 ** 2 * (x0 - 1) ** 2\n",
    "\n",
    "# 学习率\n",
    "alpha = 0.00001\n",
    "# 收敛阈值\n",
    "epsilon = 0.0001\n",
    "\n",
    "# 用于存储每次迭代的x值的列表\n",
    "x值列表 = []\n",
    "# 用于存储每次迭代的y值的列表\n",
    "y值列表 = []\n",
    "\n",
    "# 循环直到y的变化小于收敛阈值\n",
    "while True:\n",
    "    # 计算梯度\n",
    "    y0.backward()\n",
    "    # 保存y0在当前迭代的取值，用于判断迭代的停止条件\n",
    "    y = y0.item()\n",
    "    # 更新x0\n",
    "    with torch.no_grad():\n",
    "        x0 -= alpha * x0.grad  # x0 = x0 - alpha * x0.grad 创建一个新的张量并赋值给x\n",
    "    x0.grad.zero_()\n",
    "    # 计算新的y0\n",
    "    y0 = x0 ** 2 * (x0 - 1) ** 2\n",
    "    # 检查是否满足结束条件\n",
    "    if abs(y0.item() - y) < epsilon:\n",
    "        break\n",
    "\n",
    "y0.backward()\n",
    "print(\"x0: \", x0, \"y0: \", y0, \"x0的梯度: \", x0.grad)"
   ]
  },
  {
   "cell_type": "code",
   "execution_count": null,
   "id": "9376b035-043c-4bf0-ba91-5f81539b3dbd",
   "metadata": {
    "tags": []
   },
   "outputs": [],
   "source": []
  },
  {
   "cell_type": "code",
   "execution_count": null,
   "id": "53ba1dcc-38a0-4b46-95f4-e291d8e4c3e0",
   "metadata": {
    "tags": []
   },
   "outputs": [],
   "source": []
  },
  {
   "cell_type": "code",
   "execution_count": null,
   "id": "589b983e-f6ca-47b4-bb3a-584833238b06",
   "metadata": {
    "tags": []
   },
   "outputs": [],
   "source": []
  },
  {
   "cell_type": "code",
   "execution_count": null,
   "id": "92d9b90c-10a3-46b3-beec-823284346645",
   "metadata": {},
   "outputs": [],
   "source": []
  }
 ],
 "metadata": {
  "kernelspec": {
   "display_name": "Python 3",
   "language": "python",
   "name": "python3"
  },
  "language_info": {
   "codemirror_mode": {
    "name": "ipython",
    "version": 3
   },
   "file_extension": ".py",
   "mimetype": "text/x-python",
   "name": "python",
   "nbconvert_exporter": "python",
   "pygments_lexer": "ipython3",
   "version": "3.8.8"
  }
 },
 "nbformat": 4,
 "nbformat_minor": 5
}
