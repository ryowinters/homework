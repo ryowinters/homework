{
 "cells": [
  {
   "cell_type": "code",
   "execution_count": 1,
   "id": "89471a59",
   "metadata": {},
   "outputs": [
    {
     "name": "stdout",
     "output_type": "stream",
     "text": [
      "VideoObject(id='69751732174559569-9202953074616797804', model='cogvideox', video_result=None, task_status='PROCESSING', request_id='-9202953074616797805')\n"
     ]
    }
   ],
   "source": [
    "from zhipuai import ZhipuAI\n",
    "client = ZhipuAI(api_key = \"7c04b025a373876fec4ac7f38a76b47f.cq9HcNC85cfAHEWh\")\n",
    "response = client.videos.generations(\n",
    "    model = \"cogvideox\",\n",
    "    image_url = \"https://inews.gtimg.com/om_bt/O-PjsEqZN_OKPDdcOz_TffGoTAI32n-wxm-JlAEEsTWUwAA/641\",\n",
    "    prompt = \"器宇轩昂，威震古今\"\n",
    ")\n",
    "print(response)"
   ]
  },
  {
   "cell_type": "code",
   "execution_count": 5,
   "id": "ed570c98",
   "metadata": {},
   "outputs": [],
   "source": [
    "id = '69751732174559569-9202953074616797804'\n",
    "request_id = '-9202953074616797805'\n",
    "model ='cogvideox'\n",
    "task_status = 'PROCESSING'"
   ]
  },
  {
   "cell_type": "code",
   "execution_count": 7,
   "id": "6965a4ef",
   "metadata": {},
   "outputs": [
    {
     "name": "stdout",
     "output_type": "stream",
     "text": [
      "VideoObject(id=None, model='cogvideox', video_result=[VideoResult(url='https://aigc-files.bigmodel.cn/api/cogvideo/cf937122-ad24-11ef-98ac-fe65eda1aa82_0.mp4', cover_image_url='https://aigc-files.bigmodel.cn/api/cogvideo/cf937122-ad24-11ef-98ac-fe65eda1aa82_cover_0.jpeg')], task_status='SUCCESS', request_id='-9202953074616797805')\n"
     ]
    }
   ],
   "source": [
    "from zhipuai import ZhipuAI\n",
    "client = ZhipuAI(api_key = \"7c04b025a373876fec4ac7f38a76b47f.cq9HcNC85cfAHEWh\")\n",
    "\n",
    "response = client.videos.retrieve_videos_result(\n",
    "    id = \"69751732174559569-9202953074616797804\"\n",
    ")\n",
    "print(response)"
   ]
  },
  {
   "cell_type": "code",
   "execution_count": 17,
   "id": "4326630a",
   "metadata": {},
   "outputs": [
    {
     "name": "stdout",
     "output_type": "stream",
     "text": [
      "VideoObject(id='69751732174559569-9202953246415833779', model='cogvideox', video_result=None, task_status='PROCESSING', request_id='-9202953246415833780')\n"
     ]
    }
   ],
   "source": [
    "from zhipuai import ZhipuAI\n",
    "client = ZhipuAI(api_key = \"7c04b025a373876fec4ac7f38a76b47f.cq9HcNC85cfAHEWh\")\n",
    "response1 = client.videos.generations(\n",
    "    model = \"cogvideox\",\n",
    "    image_url = \"https://tse1-mm.cn.bing.net/th/id/OIP-C.fnFtd5aUzdgGOYn95QDO5wHaEE?rs=1&pid=ImgDetMain\",\n",
    "    prompt = \"我陈平安只此一剑，可斩日月，断山河\"\n",
    ")\n",
    "print(response1)"
   ]
  },
  {
   "cell_type": "code",
   "execution_count": 18,
   "id": "5eaf8580",
   "metadata": {},
   "outputs": [],
   "source": [
    "id = '69751732174559569-9202948470411070215'\n",
    "request_id = '-9202948470411070216'\n",
    "model ='cogvideox'\n",
    "task_status = 'PROCESSING'"
   ]
  },
  {
   "cell_type": "code",
   "execution_count": 20,
   "id": "e67108fa",
   "metadata": {},
   "outputs": [
    {
     "name": "stdout",
     "output_type": "stream",
     "text": [
      "VideoObject(id=None, model='cogvideox', video_result=[VideoResult(url='https://aigc-files.bigmodel.cn/api/cogvideo/e3587648-ad25-11ef-a26a-d6c7d09c487b_0.mp4', cover_image_url='https://aigc-files.bigmodel.cn/api/cogvideo/e3587648-ad25-11ef-a26a-d6c7d09c487b_cover_0.jpeg')], task_status='SUCCESS', request_id='-9202948470411070216')\n"
     ]
    }
   ],
   "source": [
    "from zhipuai import ZhipuAI\n",
    "client = ZhipuAI(api_key = \"7c04b025a373876fec4ac7f38a76b47f.cq9HcNC85cfAHEWh\")\n",
    "\n",
    "response1 = client.videos.retrieve_videos_result(\n",
    "    id = \"69751732174559569-9202948470411070215\"\n",
    ")\n",
    "print(response1)"
   ]
  },
  {
   "cell_type": "code",
   "execution_count": null,
   "id": "cd8e4da3",
   "metadata": {},
   "outputs": [],
   "source": []
  }
 ],
 "metadata": {
  "kernelspec": {
   "display_name": "Python 3 (ipykernel)",
   "language": "python",
   "name": "python3"
  },
  "language_info": {
   "codemirror_mode": {
    "name": "ipython",
    "version": 3
   },
   "file_extension": ".py",
   "mimetype": "text/x-python",
   "name": "python",
   "nbconvert_exporter": "python",
   "pygments_lexer": "ipython3",
   "version": "3.9.7"
  }
 },
 "nbformat": 4,
 "nbformat_minor": 5
}
